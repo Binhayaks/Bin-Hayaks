{
 "cells": [
  {
   "cell_type": "code",
   "execution_count": 3,
   "id": "3fb97090",
   "metadata": {},
   "outputs": [
    {
     "name": "stdout",
     "output_type": "stream",
     "text": [
      "288\n"
     ]
    }
   ],
   "source": [
    "num1 = 2\n",
    "num2 = 4\n",
    "num3 = 6\n",
    "num4 = 2\n",
    "num5 = 3\n",
    "\n",
    "multiply = num1 * num2 * num3 * num4 * num5 \n",
    "print(multiply)"
   ]
  },
  {
   "cell_type": "code",
   "execution_count": 7,
   "id": "70ae46f8",
   "metadata": {},
   "outputs": [
    {
     "data": {
      "text/plain": [
       "[3, 4, 5, 5, 6, 5, 7, 7, 5, 9]"
      ]
     },
     "execution_count": 7,
     "metadata": {},
     "output_type": "execute_result"
    }
   ],
   "source": [
    "ages = [2,3,4,5,5,6,5,7,7,5,9,7,4,67,3,5,6,7,8,2,9,0,4,3,2]\n",
    "ages[1:11]"
   ]
  },
  {
   "cell_type": "code",
   "execution_count": 17,
   "id": "17fd63a5",
   "metadata": {},
   "outputs": [
    {
     "name": "stdout",
     "output_type": "stream",
     "text": [
      "[[2, 3, 4, 5, 5, 6, 5, 7, 7, 5, 9, 7, 4, 67, 3, 5, 6, 7, 8, 2, 9, 0, 4, 3, 2]]\n"
     ]
    }
   ],
   "source": [
    "ages = [2,3,4,5,5,6,5,7,7,5,9,7,4,67,3,5,6,7,8,2,9,0,4,3,2]\n",
    "max = [ages]\n",
    "print(max)"
   ]
  },
  {
   "cell_type": "code",
   "execution_count": 7,
   "id": "bc2f9090",
   "metadata": {},
   "outputs": [
    {
     "name": "stdout",
     "output_type": "stream",
     "text": [
      "1 * 1 = 1\n",
      "1 * 2 = 2\n",
      "1 * 3 = 3\n",
      "1 * 4 = 4\n",
      "1 * 5 = 5\n",
      "1 * 6 = 6\n",
      "1 * 7 = 7\n",
      "1 * 8 = 8\n",
      "1 * 9 = 9\n",
      "---\n",
      "2 * 1 = 2\n",
      "2 * 2 = 4\n",
      "2 * 3 = 6\n",
      "2 * 4 = 8\n",
      "2 * 5 = 10\n",
      "2 * 6 = 12\n",
      "2 * 7 = 14\n",
      "2 * 8 = 16\n",
      "2 * 9 = 18\n",
      "---\n",
      "3 * 1 = 3\n",
      "3 * 2 = 6\n",
      "3 * 3 = 9\n",
      "3 * 4 = 12\n",
      "3 * 5 = 15\n",
      "3 * 6 = 18\n",
      "3 * 7 = 21\n",
      "3 * 8 = 24\n",
      "3 * 9 = 27\n",
      "---\n",
      "4 * 1 = 4\n",
      "4 * 2 = 8\n",
      "4 * 3 = 12\n",
      "4 * 4 = 16\n",
      "4 * 5 = 20\n",
      "4 * 6 = 24\n",
      "4 * 7 = 28\n",
      "4 * 8 = 32\n",
      "4 * 9 = 36\n",
      "---\n",
      "5 * 1 = 5\n",
      "5 * 2 = 10\n",
      "5 * 3 = 15\n",
      "5 * 4 = 20\n",
      "5 * 5 = 25\n",
      "5 * 6 = 30\n",
      "5 * 7 = 35\n",
      "5 * 8 = 40\n",
      "5 * 9 = 45\n",
      "---\n",
      "6 * 1 = 6\n",
      "6 * 2 = 12\n",
      "6 * 3 = 18\n",
      "6 * 4 = 24\n",
      "6 * 5 = 30\n",
      "6 * 6 = 36\n",
      "6 * 7 = 42\n",
      "6 * 8 = 48\n",
      "6 * 9 = 54\n",
      "---\n",
      "7 * 1 = 7\n",
      "7 * 2 = 14\n",
      "7 * 3 = 21\n",
      "7 * 4 = 28\n",
      "7 * 5 = 35\n",
      "7 * 6 = 42\n",
      "7 * 7 = 49\n",
      "7 * 8 = 56\n",
      "7 * 9 = 63\n",
      "---\n",
      "8 * 1 = 8\n",
      "8 * 2 = 16\n",
      "8 * 3 = 24\n",
      "8 * 4 = 32\n",
      "8 * 5 = 40\n",
      "8 * 6 = 48\n",
      "8 * 7 = 56\n",
      "8 * 8 = 64\n",
      "8 * 9 = 72\n",
      "---\n",
      "9 * 1 = 9\n",
      "9 * 2 = 18\n",
      "9 * 3 = 27\n",
      "9 * 4 = 36\n",
      "9 * 5 = 45\n",
      "9 * 6 = 54\n",
      "9 * 7 = 63\n",
      "9 * 8 = 72\n",
      "9 * 9 = 81\n",
      "---\n",
      "10 * 1 = 10\n",
      "10 * 2 = 20\n",
      "10 * 3 = 30\n",
      "10 * 4 = 40\n",
      "10 * 5 = 50\n",
      "10 * 6 = 60\n",
      "10 * 7 = 70\n",
      "10 * 8 = 80\n",
      "10 * 9 = 90\n",
      "---\n"
     ]
    }
   ],
   "source": [
    "for num in range(1,11):\n",
    "    \n",
    "    multiplier = 1\n",
    "    while multiplier < 10:\n",
    "        print(\"{} * {} = {}\". format(num, multiplier,num* multiplier))\n",
    "        multiplier += 1\n",
    "    print(\"---\")"
   ]
  },
  {
   "cell_type": "code",
   "execution_count": 6,
   "id": "19b261bb",
   "metadata": {},
   "outputs": [
    {
     "name": "stdout",
     "output_type": "stream",
     "text": [
      "-5 * 1 = -5\n",
      "-5 * 2 = -10\n",
      "-5 * 3 = -15\n",
      "-5 * 4 = -20\n",
      "-5 * 5 = -25\n",
      "-5 * 6 = -30\n",
      "-5 * 7 = -35\n",
      "-5 * 8 = -40\n",
      "-5 * 9 = -45\n",
      "---\n",
      "-4 * 1 = -4\n",
      "-4 * 2 = -8\n",
      "-4 * 3 = -12\n",
      "-4 * 4 = -16\n",
      "-4 * 5 = -20\n",
      "-4 * 6 = -24\n",
      "-4 * 7 = -28\n",
      "-4 * 8 = -32\n",
      "-4 * 9 = -36\n",
      "---\n",
      "-3 * 1 = -3\n",
      "-3 * 2 = -6\n",
      "-3 * 3 = -9\n",
      "-3 * 4 = -12\n",
      "-3 * 5 = -15\n",
      "-3 * 6 = -18\n",
      "-3 * 7 = -21\n",
      "-3 * 8 = -24\n",
      "-3 * 9 = -27\n",
      "---\n",
      "-2 * 1 = -2\n",
      "-2 * 2 = -4\n",
      "-2 * 3 = -6\n",
      "-2 * 4 = -8\n",
      "-2 * 5 = -10\n",
      "-2 * 6 = -12\n",
      "-2 * 7 = -14\n",
      "-2 * 8 = -16\n",
      "-2 * 9 = -18\n",
      "---\n",
      "-1 * 1 = -1\n",
      "-1 * 2 = -2\n",
      "-1 * 3 = -3\n",
      "-1 * 4 = -4\n",
      "-1 * 5 = -5\n",
      "-1 * 6 = -6\n",
      "-1 * 7 = -7\n",
      "-1 * 8 = -8\n",
      "-1 * 9 = -9\n",
      "---\n",
      "0 * 1 = 0\n",
      "0 * 2 = 0\n",
      "0 * 3 = 0\n",
      "0 * 4 = 0\n",
      "0 * 5 = 0\n",
      "0 * 6 = 0\n",
      "0 * 7 = 0\n",
      "0 * 8 = 0\n",
      "0 * 9 = 0\n",
      "---\n",
      "1 * 1 = 1\n",
      "1 * 2 = 2\n",
      "1 * 3 = 3\n",
      "1 * 4 = 4\n",
      "1 * 5 = 5\n",
      "1 * 6 = 6\n",
      "1 * 7 = 7\n",
      "1 * 8 = 8\n",
      "1 * 9 = 9\n",
      "---\n",
      "2 * 1 = 2\n",
      "2 * 2 = 4\n",
      "2 * 3 = 6\n",
      "2 * 4 = 8\n",
      "2 * 5 = 10\n",
      "2 * 6 = 12\n",
      "2 * 7 = 14\n",
      "2 * 8 = 16\n",
      "2 * 9 = 18\n",
      "---\n",
      "3 * 1 = 3\n",
      "3 * 2 = 6\n",
      "3 * 3 = 9\n",
      "3 * 4 = 12\n",
      "3 * 5 = 15\n",
      "3 * 6 = 18\n",
      "3 * 7 = 21\n",
      "3 * 8 = 24\n",
      "3 * 9 = 27\n",
      "---\n",
      "4 * 1 = 4\n",
      "4 * 2 = 8\n",
      "4 * 3 = 12\n",
      "4 * 4 = 16\n",
      "4 * 5 = 20\n",
      "4 * 6 = 24\n",
      "4 * 7 = 28\n",
      "4 * 8 = 32\n",
      "4 * 9 = 36\n",
      "---\n",
      "5 * 1 = 5\n",
      "5 * 2 = 10\n",
      "5 * 3 = 15\n",
      "5 * 4 = 20\n",
      "5 * 5 = 25\n",
      "5 * 6 = 30\n",
      "5 * 7 = 35\n",
      "5 * 8 = 40\n",
      "5 * 9 = 45\n",
      "---\n"
     ]
    }
   ],
   "source": [
    "for num in range(-5,6):\n",
    "    \n",
    "    multiplier = 1\n",
    "    while multiplier < 10:\n",
    "        print(\"{} * {} = {}\". format(num, multiplier,num* multiplier))\n",
    "        multiplier += 1\n",
    "    print(\"---\")"
   ]
  },
  {
   "cell_type": "code",
   "execution_count": 22,
   "id": "26c3d5ce",
   "metadata": {},
   "outputs": [
    {
     "name": "stdout",
     "output_type": "stream",
     "text": [
      "rating: 10\n",
      "1\n",
      "rating: 9.5\n",
      "2\n",
      "rating: 10\n",
      "3\n",
      "rating: 8\n",
      "4\n",
      "rating: 7.5\n",
      "5\n"
     ]
    }
   ],
   "source": [
    "playlist_ratings = [10, 9.5, 10, 8, 7.5, 5, 10, 10]\n",
    "\n",
    "index = 0 \n",
    "while index < len(playlist_ratings) and playlist_ratings[index] >= 6:\n",
    "    print(\"rating:\", playlist_ratings[index])\n",
    "    index += 1\n",
    "\n",
    "    print(index)"
   ]
  },
  {
   "cell_type": "code",
   "execution_count": 20,
   "id": "3c7af4b2",
   "metadata": {},
   "outputs": [
    {
     "name": "stdout",
     "output_type": "stream",
     "text": [
      "10\n",
      "9.5\n",
      "10\n",
      "8\n",
      "7.5\n"
     ]
    }
   ],
   "source": [
    "PlayListRatings = [10, 9.5, 10, 8, 7.5, 5, 10, 10]\n",
    "\n",
    "for rating in PlayListRatings:\n",
    "    if rating < 6:\n",
    "        break\n",
    "    print(rating)"
   ]
  },
  {
   "cell_type": "code",
   "execution_count": 23,
   "id": "16303836",
   "metadata": {},
   "outputs": [
    {
     "data": {
      "text/plain": [
       "3"
      ]
     },
     "execution_count": 23,
     "metadata": {},
     "output_type": "execute_result"
    }
   ],
   "source": [
    "#Tupple\n",
    "tp = (1,2,3)\n",
    "tp[2]"
   ]
  },
  {
   "cell_type": "code",
   "execution_count": 25,
   "id": "730c559d",
   "metadata": {},
   "outputs": [
    {
     "data": {
      "text/plain": [
       "[('Alaba', 12), ('Mustapha', 34), ('Adoke', 15)]"
      ]
     },
     "execution_count": 25,
     "metadata": {},
     "output_type": "execute_result"
    }
   ],
   "source": [
    "names = [\"Alaba\", \"Mustapha\", \"Adoke\"]\n",
    "ages = [12,34,15]\n",
    "\n",
    "list(zip(names, ages))"
   ]
  },
  {
   "cell_type": "code",
   "execution_count": 26,
   "id": "994dc3f8",
   "metadata": {},
   "outputs": [
    {
     "data": {
      "text/plain": [
       "[1, 2, 3]"
      ]
     },
     "execution_count": 26,
     "metadata": {},
     "output_type": "execute_result"
    }
   ],
   "source": [
    "list_slice = [1,2,3,4,5,6,7,8,9,10]\n",
    "list_slice[:3]"
   ]
  },
  {
   "cell_type": "code",
   "execution_count": 27,
   "id": "fc4a7c47",
   "metadata": {},
   "outputs": [
    {
     "data": {
      "text/plain": [
       "[1, 2, 3]"
      ]
     },
     "execution_count": 27,
     "metadata": {},
     "output_type": "execute_result"
    }
   ],
   "source": [
    "list_slice = [1,2,3,4,5,6,7,8,9,10]\n",
    "list_slice[0:3]"
   ]
  },
  {
   "cell_type": "code",
   "execution_count": 30,
   "id": "ef7bb5cb",
   "metadata": {},
   "outputs": [
    {
     "data": {
      "text/plain": [
       "[1, 4, 7, 10]"
      ]
     },
     "execution_count": 30,
     "metadata": {},
     "output_type": "execute_result"
    }
   ],
   "source": [
    "list_slice = [1,2,3,4,5,6,7,8,9,10]\n",
    "list_slice[::3]"
   ]
  },
  {
   "cell_type": "code",
   "execution_count": 33,
   "id": "1269b1e6",
   "metadata": {},
   "outputs": [
    {
     "data": {
      "text/plain": [
       "[1, 2, 3, 4, 4, 6, 7, 8, 9, 9, 10]"
      ]
     },
     "execution_count": 33,
     "metadata": {},
     "output_type": "execute_result"
    }
   ],
   "source": [
    "dare = (9,1,4,3,4,9,6,7,8,2,10)\n",
    "sorted(dare)"
   ]
  },
  {
   "cell_type": "code",
   "execution_count": 43,
   "id": "66154584",
   "metadata": {},
   "outputs": [
    {
     "data": {
      "text/plain": [
       "{1, 2, 3, 5, 7, 9}"
      ]
     },
     "execution_count": 43,
     "metadata": {},
     "output_type": "execute_result"
    }
   ],
   "source": [
    "A = {2,3,5,7,9}\n",
    "A.add(1)\n",
    "A"
   ]
  },
  {
   "cell_type": "markdown",
   "id": "ed498d2b",
   "metadata": {},
   "source": []
  },
  {
   "cell_type": "code",
   "execution_count": 48,
   "id": "6b4c821b",
   "metadata": {
    "scrolled": true
   },
   "outputs": [
    {
     "data": {
      "text/plain": [
       "{1}"
      ]
     },
     "execution_count": 48,
     "metadata": {},
     "output_type": "execute_result"
    }
   ],
   "source": [
    "intersection = {1, 5, 7} & {1, 6, 9}\n",
    "intersection"
   ]
  },
  {
   "cell_type": "code",
   "execution_count": null,
   "id": "dfa4861b",
   "metadata": {},
   "outputs": [],
   "source": []
  }
 ],
 "metadata": {
  "kernelspec": {
   "display_name": "Python 3 (ipykernel)",
   "language": "python",
   "name": "python3"
  },
  "language_info": {
   "codemirror_mode": {
    "name": "ipython",
    "version": 3
   },
   "file_extension": ".py",
   "mimetype": "text/x-python",
   "name": "python",
   "nbconvert_exporter": "python",
   "pygments_lexer": "ipython3",
   "version": "3.11.5"
  }
 },
 "nbformat": 4,
 "nbformat_minor": 5
}
